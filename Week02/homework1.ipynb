{
  "nbformat": 4,
  "nbformat_minor": 0,
  "metadata": {
    "colab": {
      "name": "homework1.ipynb",
      "provenance": []
    },
    "kernelspec": {
      "name": "python3",
      "display_name": "Python 3"
    }
  },
  "cells": [
    {
      "cell_type": "markdown",
      "metadata": {
        "id": "fFB70XSpjgx3"
      },
      "source": [
        "x为职位，y为月收入是否过万；对每条记录的x做target encoding，处理逻辑：除去自身的其他所有相同x对应的y的平均值，作为x的编码。\r\n"
      ]
    },
    {
      "cell_type": "code",
      "metadata": {
        "id": "SBif06UWixcR"
      },
      "source": [
        "%load_ext Cython"
      ],
      "execution_count": 1,
      "outputs": []
    },
    {
      "cell_type": "code",
      "metadata": {
        "id": "hiWbWO5wY2Wq"
      },
      "source": [
        "import numpy as np\r\n",
        "import pandas as pd"
      ],
      "execution_count": 2,
      "outputs": []
    },
    {
      "cell_type": "code",
      "metadata": {
        "id": "DvB-iKe-a4Ji"
      },
      "source": [
        "#原题\r\n",
        "def target_mean_v1(data, y_name, x_name):\r\n",
        "    result = np.zeros(data.shape[0])\r\n",
        "    for i in range(data.shape[0]):\r\n",
        "        groupby_result = data[data.index != i].groupby([x_name], as_index=False).agg(['mean', 'count'])\r\n",
        "        result[i] = groupby_result.loc[groupby_result.index == data.loc[i, x_name], (y_name, 'mean')]\r\n",
        "    return result"
      ],
      "execution_count": 3,
      "outputs": []
    },
    {
      "cell_type": "code",
      "metadata": {
        "id": "w7Seo1K3me3Z"
      },
      "source": [
        "#以更为直观理解的方式做改写。仍然使用了pandas（避免了在循环中做groupby）\r\n",
        "def target_mean_v2(data, y_name, x_name):\r\n",
        "    result = np.zeros(data.shape[0])\r\n",
        "    for i in range(data.shape[0]):\r\n",
        "      x = data.loc[i,x_name]\r\n",
        "      withoutMe = data[data.index != i]\r\n",
        "      otherMate = withoutMe[withoutMe[x_name] == x]\r\n",
        "      result[i] = otherMate[y_name].mean()\r\n",
        "    return result"
      ],
      "execution_count": 4,
      "outputs": []
    },
    {
      "cell_type": "code",
      "metadata": {
        "id": "qNd4BvVzCbDc"
      },
      "source": [
        "#先对记录表以x列做排序，减少算编码值的循环次数。由于改变了记录顺序其结果与result1不匹配。\r\n",
        "def target_mean_v3(data, y_name, x_name):\r\n",
        "    total_row = data.shape[0]\r\n",
        "    result = np.zeros(total_row)\r\n",
        "    a = data.values\r\n",
        "    ind = np.argsort( a[:,1] )\r\n",
        "    a = a[ind]\r\n",
        "\r\n",
        "    k = 0\r\n",
        "    begin_value = a[0,1]\r\n",
        "    for i in range(total_row):\r\n",
        "      x_i = a[i,1]\r\n",
        "      total_y = 0\r\n",
        "      count = 0\r\n",
        "      if x_i != begin_value:\r\n",
        "        k = i\r\n",
        "        begin_value = x_i\r\n",
        "      \r\n",
        "      for j in range(k,total_row):\r\n",
        "        if a[j,1] == x_i:\r\n",
        "          total_y += a[j,0]\r\n",
        "          count += 1\r\n",
        "        else:\r\n",
        "          break\r\n",
        "\r\n",
        "      result[i] = (total_y - a[i,0]) / (count - 1)\r\n",
        "\r\n",
        "    return result\r\n"
      ],
      "execution_count": 5,
      "outputs": []
    },
    {
      "cell_type": "code",
      "metadata": {
        "id": "RVhsxQyTYUHT"
      },
      "source": [
        "#用Numpy数组实现，不使用Pandas\r\n",
        "def target_mean_v5(data, y_name, x_name):\r\n",
        "    total_row = data.shape[0]\r\n",
        "    result = np.zeros(total_row)\r\n",
        "    a = data.values\r\n",
        "\r\n",
        "    for i in range(total_row):\r\n",
        "        x_i = a[i, 1]\r\n",
        "        total_y = 0\r\n",
        "        count = 0\r\n",
        "\r\n",
        "        for j in range(total_row):\r\n",
        "            if a[j, 1] == x_i:\r\n",
        "                total_y += a[j, 0]\r\n",
        "                count += 1\r\n",
        "\r\n",
        "        result[i] = (total_y - a[i, 0]) / (count - 1)\r\n",
        "\r\n",
        "    return result\r\n"
      ],
      "execution_count": 6,
      "outputs": []
    },
    {
      "cell_type": "code",
      "metadata": {
        "id": "UJgkVenVeAk6"
      },
      "source": [
        "#使用cython提升运行速度，增加类型定义。引入cache保存20个中间结果\r\n",
        "%%cython\r\n",
        "import numpy as np\r\n",
        "cimport numpy as cnp\r\n",
        "\r\n",
        "\r\n",
        "cpdef target_mean_v6(data, str y_name, str x_name):\r\n",
        "    cdef long total_row = data.shape[0]\r\n",
        "    cdef cnp.ndarray[double] result = np.empty(total_row)\r\n",
        "    cdef cnp.ndarray[double] cache = np.zeros(20) \r\n",
        "    cdef cnp.ndarray[long, ndim=2] a = data.values\r\n",
        "    cdef long i,j,x_i,total_y,count\r\n",
        "    cdef double cached_value\r\n",
        "\r\n",
        "    for i in range(total_row):\r\n",
        "        x_i = a[i, 1]\r\n",
        "        total_y = 0\r\n",
        "        count = 0\r\n",
        "\r\n",
        "        cached_value = cache[x_i * 2 + a[i, 0]]\r\n",
        "        if cached_value != 0:\r\n",
        "            result[i] = cached_value\r\n",
        "            continue\r\n",
        "            \r\n",
        "        for j in range(total_row):\r\n",
        "            if a[j, 1] == x_i:\r\n",
        "                total_y += a[j, 0]\r\n",
        "                count += 1\r\n",
        "\r\n",
        "        result[i] = (total_y - a[i, 0]) / (count - 1)\r\n",
        "        cache[x_i * 2 + a[i, 0]] = result[i]\r\n",
        "\r\n",
        "    return result\r\n"
      ],
      "execution_count": 7,
      "outputs": []
    },
    {
      "cell_type": "code",
      "metadata": {
        "id": "fKW-41iA2lvf"
      },
      "source": [
        "#减少中间结果的循环次数。拆分中间结果计算与后面的result填充(避免并行过程中的写操作，为后续版本打基础）\r\n",
        "%%cython\r\n",
        "import numpy as np\r\n",
        "cimport numpy as cnp\r\n",
        "\r\n",
        "cpdef target_mean_v7(data, str y_name, str x_name):\r\n",
        "    cdef long total_row = data.shape[0]\r\n",
        "    cdef cnp.ndarray[double] result = np.empty(total_row)\r\n",
        "    cdef cnp.ndarray[double] cache = np.empty(20) \r\n",
        "    cdef cnp.ndarray[long, ndim=2] a = data.values\r\n",
        "    cdef long m,n,i,total_y,count\r\n",
        "\r\n",
        "    for m in range(10):\r\n",
        "      total_y = 0\r\n",
        "      count = 0\r\n",
        "\r\n",
        "      for n in range(total_row):\r\n",
        "        if a[n, 1] == m:\r\n",
        "            total_y += a[n, 0]\r\n",
        "            count += 1\r\n",
        "\r\n",
        "      cache[m * 2] = total_y / (count - 1)\r\n",
        "      cache[m * 2 + 1] = (total_y - 1) / (count - 1)\r\n",
        "\r\n",
        "    for i in range(total_row):\r\n",
        "        result[i] = cache[a[i, 1] * 2 + a[i, 0]]\r\n",
        "\r\n",
        "    return result\r\n"
      ],
      "execution_count": 8,
      "outputs": []
    },
    {
      "cell_type": "code",
      "metadata": {
        "id": "BEkT9yfCykw5"
      },
      "source": [
        "# openmp并行。并行执行10个循环（获得cache结果）\r\n",
        "%%cython\r\n",
        "import numpy as np\r\n",
        "cimport numpy as cnp\r\n",
        "import cython\r\n",
        "cimport cython\r\n",
        "from cython.parallel import prange\r\n",
        "\r\n",
        "@cython.boundscheck(False)\r\n",
        "@cython.wraparound(False)\r\n",
        "cdef void parallel_v2(long[:,:] a, const long total_row, double[:] cache, const long m) nogil :\r\n",
        "      cdef long n, total_y = 0, count = 0\r\n",
        "\r\n",
        "      for n from 0 <= n < total_row by 1:\r\n",
        "        if a[n, 1] == m:\r\n",
        "            total_y += a[n, 0]\r\n",
        "            count += 1\r\n",
        "\r\n",
        "      cache[m * 2] = total_y / (count - 1)\r\n",
        "      cache[m * 2 + 1] = (total_y - 1) / (count - 1)\r\n",
        "\r\n",
        "cpdef target_mean_v8(data, y_name, x_name):\r\n",
        "    cdef long total_row = data.shape[0]\r\n",
        "    cdef cnp.ndarray[double] result = np.zeros(total_row)\r\n",
        "    cdef cnp.ndarray[double] cache = np.zeros(20) \r\n",
        "    cdef cnp.ndarray[long, ndim=2] a = data.values\r\n",
        "    cdef long i,j\r\n",
        "\r\n",
        "    cdef long[:,:] arg_a = np.asfortranarray(a, dtype=np.long)\r\n",
        "    cdef double[:] arg_cache = np.asfortranarray(cache, dtype=np.float64)\r\n",
        "\r\n",
        "    for i in prange(10, nogil=True):\r\n",
        "      parallel_v2(arg_a, total_row, arg_cache, i)\r\n",
        "\r\n",
        "    cache = np.asfortranarray(arg_cache[:], dtype=np.float64)\r\n",
        "    for i in range(total_row):\r\n",
        "      result[i] = cache[a[i, 1] * 2 + a[i, 0]]\r\n",
        "\r\n",
        "    return result"
      ],
      "execution_count": 9,
      "outputs": []
    },
    {
      "cell_type": "markdown",
      "metadata": {
        "id": "Wl91d8wAV9i3"
      },
      "source": [
        "## 结果比较"
      ]
    },
    {
      "cell_type": "code",
      "metadata": {
        "id": "FKDmcmphzDfP"
      },
      "source": [
        "y = np.random.randint(2, size=(5000, 1))\r\n",
        "x = np.random.randint(10, size=(5000, 1))\r\n",
        "data = pd.DataFrame(np.concatenate([y, x], axis=1), columns=['y', 'x'])"
      ],
      "execution_count": 10,
      "outputs": []
    },
    {
      "cell_type": "code",
      "metadata": {
        "id": "7sKJ-mj-bBQ_",
        "colab": {
          "base_uri": "https://localhost:8080/"
        },
        "outputId": "90a38a39-152a-4d98-dfff-9bbf77e22c2e"
      },
      "source": [
        "\r\n",
        "result_1 = target_mean_v1(data, 'y', 'x')\r\n",
        "result_2 = target_mean_v2(data, 'y', 'x')\r\n",
        "result_6 = target_mean_v6(data, 'y', 'x')\r\n",
        "result_7 = target_mean_v7(data, 'y', 'x')\r\n",
        "result_8 = target_mean_v8(data, 'y', 'x')\r\n",
        "\r\n",
        "diff = np.linalg.norm(result_2 - result_1)\r\n",
        "print(diff)\r\n",
        "diff = np.linalg.norm(result_6 - result_1)\r\n",
        "print(diff)\r\n",
        "diff = np.linalg.norm(result_7 - result_1)\r\n",
        "print(diff)\r\n",
        "diff = np.linalg.norm(result_8 - result_1)\r\n",
        "print(diff)\r\n"
      ],
      "execution_count": 11,
      "outputs": [
        {
          "output_type": "stream",
          "text": [
            "0.0\n",
            "0.0\n",
            "0.0\n",
            "0.0\n"
          ],
          "name": "stdout"
        }
      ]
    },
    {
      "cell_type": "code",
      "metadata": {
        "id": "BFTj6rmkp6lA",
        "colab": {
          "base_uri": "https://localhost:8080/"
        },
        "outputId": "25132891-7be0-4abc-b95c-c55481b2431b"
      },
      "source": [
        "%%timeit\r\n",
        "result_1 = target_mean_v1(data, 'y', 'x')"
      ],
      "execution_count": 12,
      "outputs": [
        {
          "output_type": "stream",
          "text": [
            "1 loop, best of 3: 24.9 s per loop\n"
          ],
          "name": "stdout"
        }
      ]
    },
    {
      "cell_type": "code",
      "metadata": {
        "id": "VuPZoynEp_40",
        "colab": {
          "base_uri": "https://localhost:8080/"
        },
        "outputId": "ca5c77f7-ecab-4c98-ea1d-3ce5879b929f"
      },
      "source": [
        "%%timeit\r\n",
        "result_2 = target_mean_v2(data, 'y', 'x')"
      ],
      "execution_count": 13,
      "outputs": [
        {
          "output_type": "stream",
          "text": [
            "1 loop, best of 3: 5.48 s per loop\n"
          ],
          "name": "stdout"
        }
      ]
    },
    {
      "cell_type": "code",
      "metadata": {
        "id": "wqK6XZjx-kMR",
        "colab": {
          "base_uri": "https://localhost:8080/"
        },
        "outputId": "bbd2da2f-41d7-4091-9eba-ac318d387a10"
      },
      "source": [
        "\r\n",
        "%%timeit\r\n",
        "result_6 = target_mean_v6(data, 'y', 'x')"
      ],
      "execution_count": 14,
      "outputs": [
        {
          "output_type": "stream",
          "text": [
            "1000 loops, best of 3: 205 µs per loop\n"
          ],
          "name": "stdout"
        }
      ]
    },
    {
      "cell_type": "code",
      "metadata": {
        "id": "lROgTek3huxp",
        "colab": {
          "base_uri": "https://localhost:8080/"
        },
        "outputId": "439e5742-d947-4aac-e961-1ebbc8842b61"
      },
      "source": [
        "%%timeit\r\n",
        "result_7 = target_mean_v7(data, 'y', 'x')"
      ],
      "execution_count": 15,
      "outputs": [
        {
          "output_type": "stream",
          "text": [
            "10000 loops, best of 3: 122 µs per loop\n"
          ],
          "name": "stdout"
        }
      ]
    },
    {
      "cell_type": "code",
      "metadata": {
        "id": "hKxPmG65-7HP",
        "colab": {
          "base_uri": "https://localhost:8080/"
        },
        "outputId": "49634922-bfc0-453e-e7d7-e79b2c831535"
      },
      "source": [
        "#从这个结果看并行没有能提高运行速度\r\n",
        "%%timeit\r\n",
        "result_8 = target_mean_v8(data, 'y', 'x')"
      ],
      "execution_count": 16,
      "outputs": [
        {
          "output_type": "stream",
          "text": [
            "The slowest run took 4.04 times longer than the fastest. This could mean that an intermediate result is being cached.\n",
            "10000 loops, best of 3: 138 µs per loop\n"
          ],
          "name": "stdout"
        }
      ]
    }
  ]
}